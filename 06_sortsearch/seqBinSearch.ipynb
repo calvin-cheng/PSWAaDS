{
 "cells": [
  {
   "cell_type": "code",
   "execution_count": 1,
   "metadata": {},
   "outputs": [],
   "source": [
    "def sequential_search(lst, value):\n",
    "    if len(lst) == 0:\n",
    "        print('Empty list')\n",
    "        return\n",
    "    for idx in range(len(lst)):\n",
    "        if lst[idx] == value:\n",
    "            return idx\n",
    "    return None\n",
    "        \n",
    "\n",
    "def binary_search(lst, value):\n",
    "    '''Input list must be sorted!'''\n",
    "    if len(lst) == 0:\n",
    "        print('Empty list')\n",
    "        return\n",
    "    \n",
    "    left = 0\n",
    "    right = len(lst) - 1\n",
    "    mid = (right + left) // 2\n",
    "    \n",
    "    while right >= left:\n",
    "        if lst[mid] == value:\n",
    "            return mid\n",
    "        elif lst[mid] > value:\n",
    "            right = mid - 1\n",
    "            mid = (right + left) // 2\n",
    "        else: # lst[mid] < value\n",
    "            left = mid + 1\n",
    "            mid = (right + left) // 2\n",
    "    return None"
   ]
  },
  {
   "cell_type": "code",
   "execution_count": 2,
   "metadata": {},
   "outputs": [
    {
     "name": "stdout",
     "output_type": "stream",
     "text": [
      "3\n",
      "3\n",
      "None\n",
      "None\n"
     ]
    }
   ],
   "source": [
    "test_list = [0, 2, 4, 6, 8, 10]\n",
    "value = 6\n",
    "\n",
    "print(sequential_search(test_list, value))  # 3\n",
    "print(binary_search(test_list, value))  # 3\n",
    "\n",
    "test_list = [0, 2, 4, 7, 8, 10]\n",
    "\n",
    "print(sequential_search(test_list, value))  # None\n",
    "print(binary_search(test_list, value))  # None"
   ]
  },
  {
   "cell_type": "code",
   "execution_count": 4,
   "metadata": {},
   "outputs": [
    {
     "data": {
      "image/png": "[encoded data removed]",
      "text/plain": [
       "<Figure size 432x288 with 1 Axes>"
      ]
     },
     "metadata": {
      "needs_background": "light"
     },
     "output_type": "display_data"
    }
   ],
   "source": [
    "from timeit import Timer\n",
    "from matplotlib import pyplot as plt\n",
    "import random\n",
    "\n",
    "\n",
    "seq_times = []\n",
    "bin_times = []\n",
    "for length in range(100, 4000, 100):\n",
    "    test_list = list(range(length))\n",
    "    \n",
    "    bin_timer = Timer('binary_search(test_list, random.randrange({}))'.format(length),\n",
    "                      'from __main__ import binary_search, test_list, random')\n",
    "    seq_timer = Timer('sequential_search(test_list, random.randrange({}))'.format(length),\n",
    "                      'from __main__ import sequential_search, test_list, random')\n",
    "    seq_time = seq_timer.timeit(number=2000)\n",
    "    bin_time = bin_timer.timeit(number=2000)\n",
    "    seq_times.append(seq_time)\n",
    "    bin_times.append(bin_time)\n",
    "    \n",
    "plt.plot(range(100, 4000, 100), seq_times, label='Sequential')\n",
    "plt.plot(range(100, 4000, 100), bin_times, label='Binary')\n",
    "plt.title('Searching: Sequential vs Binary (Iterative)')\n",
    "plt.xlabel('n')\n",
    "plt.ylabel('Time (s)')\n",
    "plt.legend()\n",
    "plt.show()"
   ]
  },
  {
   "cell_type": "markdown",
   "metadata": {},
   "source": [
    "| Search | Complexity |\n",
    "|------------|--------|\n",
    "| Sequential | $O(n)$ |\n",
    "| Binary | $O(\\log(n))$ |"
   ]
  }
 ],
 "metadata": {
  "kernelspec": {
   "display_name": "Python 3",
   "language": "python",
   "name": "python3"
  },
  "language_info": {
   "codemirror_mode": {
    "name": "ipython",
    "version": 3
   },
   "file_extension": ".py",
   "mimetype": "text/x-python",
   "name": "python",
   "nbconvert_exporter": "python",
   "pygments_lexer": "ipython3",
   "version": "3.7.0"
  }
 },
 "nbformat": 4,
 "nbformat_minor": 2
}
