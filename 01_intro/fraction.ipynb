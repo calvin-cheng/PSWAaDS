{
 "cells": [
  {
   "cell_type": "markdown",
   "metadata": {},
   "source": [
    "# Self Check\n",
    "\n",
    "To make sure you understand how operators are implemented in Python classes, and how to properly write methods, write some methods to implement `*`, `/`, and `−`. Also implement comparison operators `>` and `<`."
   ]
  },
  {
   "cell_type": "code",
   "execution_count": 2,
   "metadata": {},
   "outputs": [],
   "source": [
    "# GCD function -- thanks euclide\n",
    "def gcd(m, n):\n",
    "    while m % n != 0:\n",
    "        old_m = m \n",
    "        old_n = n\n",
    "        m = old_n\n",
    "        n = old_m % old_n \n",
    "    return n\n",
    "\n",
    "# To do: multiplication, division, subtraction and comparison operators (< , >) \n",
    "class Fraction:\n",
    "    def __init__(self, top, bottom):\n",
    "        common = gcd(top, bottom)\n",
    "        self.num = top // common\n",
    "        self.den = bottom // common\n",
    "        \n",
    "    def __str__(self):\n",
    "        return str(self.num) + \"/\" + str(self.den)\n",
    "    \n",
    "    def show(self):\n",
    "        print(self.num, \"/\", self.den)\n",
    "        \n",
    "    def __add__(self, other_fraction):\n",
    "        new_num = self.num * other_fraction.den + \\\n",
    "        self.den * other_fraction.num\n",
    "        new_den = self.den * other_fraction.den\n",
    "        return Fraction(new_num, new_den)\n",
    "    \n",
    "    def __sub__(self, other_fraction):\n",
    "        new_num = self.num * other_fraction.den - \\\n",
    "        self.den * other_fraction.num\n",
    "        new_den = self.den * other_fraction.den\n",
    "        return Fraction(new_num, new_den)\n",
    "    \n",
    "    def __mul__(self, other_fraction):\n",
    "        new_num = self.num * other_fraction.num\n",
    "        new_den = self.den * other_fraction.den\n",
    "        common = gcd(new_num, new_den)\n",
    "        return Fraction(new_num // common, new_den // common)\n",
    "    \n",
    "    def __truediv__(self, other_fraction):\n",
    "        new_num = self.num * other_fraction.den\n",
    "        new_den = self.den * other_fraction.num\n",
    "        common = gcd(new_num, new_den)\n",
    "        return Fraction(new_num // common, new_den // common)\n",
    "    \n",
    "    def __gt__(self, other_fraction):\n",
    "        return((self.num / self.den) > (other_fraction.num / other_fraction.num))\n",
    "    \n",
    "    def __lt__(self, other_fraction):\n",
    "        return((self.num / self.den) < (other_fraction.num / other_fraction.num))\n",
    "    \n",
    "    def __eq__(self, other):\n",
    "        first_num = self.num * other.den \n",
    "        second_num = other.num * self.den\n",
    "        return first_num == second_num "
   ]
  },
  {
   "cell_type": "code",
   "execution_count": 5,
   "metadata": {},
   "outputs": [
    {
     "name": "stdout",
     "output_type": "stream",
     "text": [
      "-1/2\n",
      "1/6\n",
      "False\n",
      "-3/4\n",
      "-1/8\n",
      "-2/1\n",
      "False\n",
      "True\n"
     ]
    }
   ],
   "source": [
    "x = Fraction(1, -2)\n",
    "y = Fraction(2, 3) \n",
    "print(x)\n",
    "print(x + y) \n",
    "print(x == y)\n",
    "\n",
    "z = Fraction(1, 4)\n",
    "print(x - z)\n",
    "\n",
    "print(x * z)\n",
    "print(x / z)\n",
    "print(x > y)\n",
    "print(y < x)"
   ]
  }
 ],
 "metadata": {
  "kernelspec": {
   "display_name": "Python3 (testvenv)",
   "language": "python",
   "name": "py2env"
  },
  "language_info": {
   "codemirror_mode": {
    "name": "ipython",
    "version": 3
   },
   "file_extension": ".py",
   "mimetype": "text/x-python",
   "name": "python",
   "nbconvert_exporter": "python",
   "pygments_lexer": "ipython3",
   "version": "3.7.3"
  }
 },
 "nbformat": 4,
 "nbformat_minor": 4
}
