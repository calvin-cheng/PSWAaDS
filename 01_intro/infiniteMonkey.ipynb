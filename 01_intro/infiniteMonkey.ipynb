{
 "cells": [
  {
   "cell_type": "markdown",
   "metadata": {},
   "source": [
    "# Self-Check\n",
    "\n",
    "## 1.4 – Review of Basic Python\n",
    "\n",
    "Taken from __Problem Solving with Algorithms and Data Structures__\n",
    "\n",
    "### Task\n",
    "\n",
    "Here is a self check that really covers everything so far. You may have heard of the infinite monkey theorem? The theorem states that a monkey hitting keys at random on a typewriter keyboard for an infinite amount of time will almost surely type a given text, such as the com- plete works of William Shakespeare. Well, suppose we replace a monkey with a Python func- tion. How long do you think it would take for a Python function to generate just one sentence of Shakespeare? The sentence we’ll shoot for is: \n",
    "> methinks it is like a weasel\n",
    "\n",
    "You are not going to want to run this one in the browser, so fire up your favorite Python IDE. The way we will simulate this is to write a function that generates a string that is 27 characters long by choosing random letters from the 26 letters in the alphabet plus the space. We will write another function that will score each generated string by comparing the randomly generated string to the goal.\n",
    "\n",
    "A third function will repeatedly call generate and score, then if 100% of the letters are correct we are done. If the letters are not correct then we will generate a whole new string. To make it easier to follow your program’s progress this third function should print out the best string generated so far and its score every 1000 tries."
   ]
  },
  {
   "cell_type": "code",
   "execution_count": 1,
   "metadata": {},
   "outputs": [],
   "source": [
    "import random\n",
    "\n",
    "def infiniteMonkey():\n",
    "    iters = 0\n",
    "    score = 0\n",
    "    bestStr = None\n",
    "    bestScore = 0\n",
    "    while score != 28:\n",
    "        string = genStr()\n",
    "        score = calcScore(string)\n",
    "        if score > bestScore:\n",
    "            bestStr = string\n",
    "            bestScore = score\n",
    "        if iters % 100000 == 0:\n",
    "            print(\"Best string: {:s} with score {:d} ({}%).\".format(bestStr, bestScore, bestScore*100/28.0))\n",
    "        if score == 28:\n",
    "            print(\"Finished in {} iterations.\".format(iters))\n",
    "            break\n",
    "        iters += 1\n",
    "\n",
    "def genStr():\n",
    "    alphabet = 'abcdefghijklmnopqrstuvwxyz '\n",
    "    string = ''\n",
    "    for _ in range(28):\n",
    "        string = string + alphabet[random.randrange(0,len(alphabet))]\n",
    "    return string\n",
    "\n",
    "def mutateStr(string, indices):\n",
    "    alphabet = 'abcdefghijklmnopqrstuvwxyz '\n",
    "    newString = string\n",
    "    for idx in indices:\n",
    "        try:\n",
    "            newString = newString[:idx] + alphabet[random.randrange(0, len(alphabet))] + newString[idx+1:]\n",
    "        except:\n",
    "            pass\n",
    "    return newString\n",
    "\n",
    "def calcScore(string):\n",
    "    targetStr = 'methinks it is like a weasel'\n",
    "    score = 0\n",
    "    indices = []\n",
    "    for i in range(28):\n",
    "        if string[i] == targetStr[i]:\n",
    "            score += 1\n",
    "        else:\n",
    "            indices.append(i)\n",
    "    return score, indices"
   ]
  },
  {
   "cell_type": "code",
   "execution_count": 2,
   "metadata": {},
   "outputs": [],
   "source": [
    "#infiniteMonkey()\n",
    "# Functional but takes wayy too long"
   ]
  },
  {
   "cell_type": "markdown",
   "metadata": {},
   "source": [
    "### Self-check Challenge\n",
    "\n",
    "See if you can improve upon the program in the self check by keeping letters that are correct and only modifying one character in the best string so far. This is a type of algorithm in the class of “hill climbing” algorithms, that is we only keep the result if it is better than the previous one."
   ]
  },
  {
   "cell_type": "code",
   "execution_count": 72,
   "metadata": {},
   "outputs": [],
   "source": [
    "def infiniteMonkeyImproved():\n",
    "    iters = 0\n",
    "    score = 0\n",
    "    bestStr = 'NONE'\n",
    "    bestScore = 0\n",
    "    \n",
    "    string = genStr()\n",
    "    indices = []\n",
    "    print(\"Initial string: {} with score {}.\".format(string, calcScore(string)[0]))\n",
    "    while score != 28:\n",
    "        string = mutateStr(string, indices)\n",
    "        score, indices = calcScore(string)\n",
    "        if score > bestScore:\n",
    "            bestStr = string\n",
    "            bestScore = score\n",
    "        if score == 28:\n",
    "            print(\"Best string: {} | Score: {} | Iteration: {}.\".format(bestStr, bestScore, iters))\n",
    "            print(\"====FINISHED====\")\n",
    "            break\n",
    "        if iters % 2 == 0 and iters != 0:\n",
    "            print(\"Best string: {} | Score: {} | Iteration: {}.\".format(bestStr, bestScore, iters))\n",
    "        iters += 1"
   ]
  },
  {
   "cell_type": "code",
   "execution_count": 73,
   "metadata": {},
   "outputs": [
    {
     "name": "stdout",
     "output_type": "stream",
     "text": [
      "Initial string: bfkftwqcsfjdkfbgyqeuufr mkea with score 2.\n",
      "Best string: vhcow xshyrugbxnnjeochwelheb | Score: 5 | Iteration: 2.\n",
      "Best string: iogsphxsxhxpar liuemgpwezueg | Score: 8 | Iteration: 4.\n",
      "Best string: iogsphxsxhxpar liuemgpwezueg | Score: 8 | Iteration: 6.\n",
      "Best string: iogsphxsxhxpar liuemgpwezueg | Score: 8 | Iteration: 8.\n",
      "Best string: ya vvdis oudba lideqxqwebqeh | Score: 9 | Iteration: 10.\n",
      "Best string: zhhjcnhs qm tk lije kywewneh | Score: 12 | Iteration: 12.\n",
      "Best string: rglhpnss as pv liae ecweanee | Score: 14 | Iteration: 14.\n",
      "Best string: rglhpnss as pv liae ecweanee | Score: 14 | Iteration: 16.\n",
      "Best string: xnthsnps  e qg life hzweawet | Score: 15 | Iteration: 18.\n",
      "Best string: jathsnws ss cu liee  eweasev | Score: 16 | Iteration: 20.\n",
      "Best string: uothnnrs ih is life voweaseb | Score: 19 | Iteration: 22.\n",
      "Best string: uothnnrs ih is life voweaseb | Score: 19 | Iteration: 24.\n",
      "Best string: mythrnms it is liae ekweaser | Score: 21 | Iteration: 26.\n",
      "Best string: mythrnms it is liae ekweaser | Score: 21 | Iteration: 28.\n",
      "Best string: mythrnms it is liae ekweaser | Score: 21 | Iteration: 30.\n",
      "Best string: mxthknks it is line uvwease  | Score: 22 | Iteration: 32.\n",
      "Best string: mxthknks it is line uvwease  | Score: 22 | Iteration: 34.\n",
      "Best string: msthdnks it is like lkweasel | Score: 24 | Iteration: 36.\n",
      "Best string: methpnks it is like aoweasel | Score: 26 | Iteration: 38.\n",
      "Best string: methpnks it is like aoweasel | Score: 26 | Iteration: 40.\n",
      "Best string: methpnks it is like aoweasel | Score: 26 | Iteration: 42.\n",
      "Best string: methfnks it is like a weasel | Score: 27 | Iteration: 44.\n",
      "Best string: methfnks it is like a weasel | Score: 27 | Iteration: 46.\n",
      "Best string: methfnks it is like a weasel | Score: 27 | Iteration: 48.\n",
      "Best string: methfnks it is like a weasel | Score: 27 | Iteration: 50.\n",
      "Best string: methfnks it is like a weasel | Score: 27 | Iteration: 52.\n",
      "Best string: methinks it is like a weasel | Score: 28 | Iteration: 53.\n",
      "====FINISHED====\n"
     ]
    }
   ],
   "source": [
    "infiniteMonkeyImproved()"
   ]
  }
 ],
 "metadata": {
  "kernelspec": {
   "display_name": "Python 3",
   "language": "python",
   "name": "python3"
  },
  "language_info": {
   "codemirror_mode": {
    "name": "ipython",
    "version": 3
   },
   "file_extension": ".py",
   "mimetype": "text/x-python",
   "name": "python",
   "nbconvert_exporter": "python",
   "pygments_lexer": "ipython3",
   "version": "3.7.3"
  }
 },
 "nbformat": 4,
 "nbformat_minor": 4
}
