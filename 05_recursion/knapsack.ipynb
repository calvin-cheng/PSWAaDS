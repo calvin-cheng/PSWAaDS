{
 "cells": [
  {
   "cell_type": "code",
   "execution_count": 1,
   "metadata": {},
   "outputs": [
    {
     "name": "stdout",
     "output_type": "stream",
     "text": [
      "40\n"
     ]
    }
   ],
   "source": [
    "class Item:\n",
    "    def __init__(self, name, weight, value):\n",
    "        self.name = name\n",
    "        self.weight = weight\n",
    "        self.value = value\n",
    "\n",
    "\n",
    "def getMaxValue(knapsack_weight, items, memo):\n",
    "    '''Misunderstood the problem. Assumed multiple instances \n",
    "    of the same item may be put inside the knapsack\n",
    "    '''\n",
    "    if memo[knapsack_weight] != None:\n",
    "        return memo[knapsack_weight]\n",
    "    maxValue = 0\n",
    "    for item in items:\n",
    "        if item.weight > knapsack_weight:\n",
    "            value = 0\n",
    "        else:\n",
    "            value = (item.value \n",
    "                     + getMaxValue(knapsack_weight - item.weight, items, memo))\n",
    "        if value > maxValue:\n",
    "            maxValue = value\n",
    "    memo[knapsack_weight] = maxValue\n",
    "    return maxValue\n",
    "\n",
    "\n",
    "test_weight = 20\n",
    "item1 = Item(1, 2, 3)\n",
    "item2 = Item(2, 3, 4)\n",
    "item3 = Item(3, 4, 8)\n",
    "item4 = Item(4, 5, 8)\n",
    "item5 = Item(5, 9, 10)\n",
    "\n",
    "items = [item1, item2, item3, item4, item5]\n",
    "memo = [None for _ in range(test_weight+1)] #weights from 0 to 7\n",
    "\n",
    "print(getMaxValue(test_weight, items, memo))"
   ]
  },
  {
   "cell_type": "code",
   "execution_count": 2,
   "metadata": {},
   "outputs": [
    {
     "name": "stdout",
     "output_type": "stream",
     "text": [
      "26\n"
     ]
    }
   ],
   "source": [
    "def getMaxValue2(knapsack_weight, items, memo):\n",
    "    '''0-1 Knapsack problem'''\n",
    "    if memo[knapsack_weight] != None:\n",
    "        return memo[knapsack_weight]\n",
    "    maxValue = 0\n",
    "    for i in range(len(items)):\n",
    "        item = items[i]\n",
    "        if item.weight > knapsack_weight:\n",
    "            value = 0\n",
    "        else:\n",
    "            value = (item.value + getMaxValue2(knapsack_weight - item.weight, \n",
    "                                               items[:i] + items[i+1:], \n",
    "                                               memo))\n",
    "        if value > maxValue:\n",
    "            maxValue = value\n",
    "    memo[knapsack_weight] = maxValue\n",
    "    return maxValue\n",
    "\n",
    "\n",
    "test_weight = 20\n",
    "item1 = Item(1, 2, 3) # Item(name, weight, value)\n",
    "item2 = Item(2, 3, 4)\n",
    "item3 = Item(3, 2, 3)\n",
    "item4 = Item(4, 5, 8)\n",
    "item5 = Item(5, 9, 10)\n",
    "\n",
    "items = [item1, item2, item3, item4, item5]\n",
    "memo = [None for _ in range(test_weight + 1)] # weights from 0 to 7\n",
    "\n",
    "print(getMaxValue2(test_weight, items, memo))"
   ]
  }
 ],
 "metadata": {
  "kernelspec": {
   "display_name": "Python 3",
   "language": "python",
   "name": "python3"
  },
  "language_info": {
   "codemirror_mode": {
    "name": "ipython",
    "version": 3
   },
   "file_extension": ".py",
   "mimetype": "text/x-python",
   "name": "python",
   "nbconvert_exporter": "python",
   "pygments_lexer": "ipython3",
   "version": "3.7.0"
  }
 },
 "nbformat": 4,
 "nbformat_minor": 2
}
