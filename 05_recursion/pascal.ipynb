{
 "cells": [
  {
   "cell_type": "code",
   "execution_count": 1,
   "metadata": {},
   "outputs": [
    {
     "name": "stdout",
     "output_type": "stream",
     "text": [
      "             1              \n",
      "           1   1            \n",
      "         1   2   1          \n",
      "       1   3   3   1        \n",
      "     1   4   6   4   1      \n",
      "  1   5   10   10   5   1   \n",
      "1   6   15   20   15   6   1\n"
     ]
    }
   ],
   "source": [
    "'''\n",
    "1\n",
    "1 1\n",
    "1 2 1\n",
    "1 3 3 1\n",
    "1 4 6 4 1\n",
    "'''\n",
    "\n",
    "def pascal_triangle(nRows):\n",
    "    '''Generates a Pascal triangle with nRows'''\n",
    "    if nRows <= 0:\n",
    "        print('Number of rows must be greater than 0.')\n",
    "    else:\n",
    "        matrix = [[None for _ in range(nRows)] for _ in range(nRows)]\n",
    "        for j in range(nRows):\n",
    "            for i in range(j+1):\n",
    "                if i == 0 or i == j:\n",
    "                    matrix[j][i] = 1\n",
    "                else:\n",
    "                    matrix[j][i] = matrix[j-1][i-1] + matrix[j-1][i]\n",
    "                    \n",
    "        print_triangle(nRows, matrix)\n",
    "\n",
    "def print_triangle(nRows, matrix):\n",
    "    '''Helper function to print matrix in a triangular form'''\n",
    "    maxWidth = len('   '.join([str(x) for x in matrix[nRows-1][0:nRows]]))\n",
    "    for j in range(nRows):\n",
    "        print('{:^{w}}'.format('   '.join([str(x) for x in matrix[j][0:j+1]]), \n",
    "                               w = maxWidth))\n",
    "\n",
    "\n",
    "pascal_triangle(7)"
   ]
  }
 ],
 "metadata": {
  "kernelspec": {
   "display_name": "Python 3",
   "language": "python",
   "name": "python3"
  },
  "language_info": {
   "codemirror_mode": {
    "name": "ipython",
    "version": 3
   },
   "file_extension": ".py",
   "mimetype": "text/x-python",
   "name": "python",
   "nbconvert_exporter": "python",
   "pygments_lexer": "ipython3",
   "version": "3.7.0"
  }
 },
 "nbformat": 4,
 "nbformat_minor": 2
}
