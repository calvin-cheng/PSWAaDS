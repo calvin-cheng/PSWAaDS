{
 "cells": [
  {
   "cell_type": "code",
   "execution_count": 1,
   "metadata": {},
   "outputs": [],
   "source": [
    "class Stack:\n",
    "    def __init__(self, name):\n",
    "        self.name = name\n",
    "        self.items = []\n",
    "        self.length = 0\n",
    "        \n",
    "    def __str__(self):\n",
    "        return str(self.items)\n",
    "    \n",
    "    def push(self, item):\n",
    "        self.length += 1\n",
    "        self.items.append(item)\n",
    "    \n",
    "    def pop(self):\n",
    "        self.length -= 1\n",
    "        return self.items.pop()\n",
    "\n",
    "    def isEmpty(self):\n",
    "        return self.items == []\n",
    "    \n",
    "    def length(self):\n",
    "        return self.length\n",
    "    \n",
    "\n",
    "class TowerOfHanoi:\n",
    "    def __init__(self, nDisks):\n",
    "        self.A = Stack('A')\n",
    "        self.B = Stack('B')\n",
    "        self.C = Stack('C')\n",
    "        for disk in range(nDisks,0,-1):\n",
    "            self.A.push(disk)\n",
    "            \n",
    "    def __str__(self):\n",
    "        return str(self.A) + '\\n' + str(self.B) + '\\n' + str(self.C)\n",
    "    \n",
    "    def moveTower(self, nDisks, fromTower, helpTower, toTower):\n",
    "        if nDisks == 1:\n",
    "            self.moveDisk(fromTower, toTower)\n",
    "            return\n",
    "        self.moveTower(nDisks-1, fromTower, toTower, helpTower)\n",
    "        self.moveDisk(fromTower, toTower)\n",
    "        self.moveTower(nDisks-1, helpTower, fromTower, toTower)\n",
    "            \n",
    "    def moveDisk(self, fromTower, toTower):\n",
    "        '''Helper function for moveTower'''\n",
    "        toTower.push(fromTower.pop())\n",
    "        print('Moved from {} to {}!'.format(fromTower.name, toTower.name))\n",
    "        print(self)"
   ]
  },
  {
   "cell_type": "code",
   "execution_count": 2,
   "metadata": {},
   "outputs": [
    {
     "name": "stdout",
     "output_type": "stream",
     "text": [
      "[3, 2, 1]\n",
      "[]\n",
      "[]\n",
      "Moved from A to C!\n",
      "[3, 2]\n",
      "[]\n",
      "[1]\n",
      "Moved from A to B!\n",
      "[3]\n",
      "[2]\n",
      "[1]\n",
      "Moved from C to B!\n",
      "[3]\n",
      "[2, 1]\n",
      "[]\n",
      "Moved from A to C!\n",
      "[]\n",
      "[2, 1]\n",
      "[3]\n",
      "Moved from B to A!\n",
      "[1]\n",
      "[2]\n",
      "[3]\n",
      "Moved from B to C!\n",
      "[1]\n",
      "[]\n",
      "[3, 2]\n",
      "Moved from A to C!\n",
      "[]\n",
      "[]\n",
      "[3, 2, 1]\n"
     ]
    }
   ],
   "source": [
    "nDisks = 3\n",
    "\n",
    "t = TowerOfHanoi(nDisks)\n",
    "print(t)\n",
    "\n",
    "t.moveTower(nDisks, t.A, t.B, t.C)"
   ]
  }
 ],
 "metadata": {
  "kernelspec": {
   "display_name": "Python 3",
   "language": "python",
   "name": "python3"
  },
  "language_info": {
   "codemirror_mode": {
    "name": "ipython",
    "version": 3
   },
   "file_extension": ".py",
   "mimetype": "text/x-python",
   "name": "python",
   "nbconvert_exporter": "python",
   "pygments_lexer": "ipython3",
   "version": "3.7.0"
  }
 },
 "nbformat": 4,
 "nbformat_minor": 2
}
