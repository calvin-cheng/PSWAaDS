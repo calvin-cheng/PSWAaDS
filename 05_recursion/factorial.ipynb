{
 "cells": [
  {
   "cell_type": "code",
   "execution_count": 1,
   "metadata": {},
   "outputs": [
    {
     "name": "stdout",
     "output_type": "stream",
     "text": [
      "120\n"
     ]
    }
   ],
   "source": [
    "def factorial_recursive(x):\n",
    "    ''' x! = x * (x-1)! '''\n",
    "    if x <= 1:\n",
    "        return 1\n",
    "    return x * factorial_recursive(x - 1)\n",
    "    \n",
    "    \n",
    "testcase = 5 # 5! = 120\n",
    "print(factorial_recursive(testcase))"
   ]
  }
 ],
 "metadata": {
  "kernelspec": {
   "display_name": "Python 3",
   "language": "python",
   "name": "python3"
  },
  "language_info": {
   "codemirror_mode": {
    "name": "ipython",
    "version": 3
   },
   "file_extension": ".py",
   "mimetype": "text/x-python",
   "name": "python",
   "nbconvert_exporter": "python",
   "pygments_lexer": "ipython3",
   "version": "3.7.0"
  }
 },
 "nbformat": 4,
 "nbformat_minor": 2
}
