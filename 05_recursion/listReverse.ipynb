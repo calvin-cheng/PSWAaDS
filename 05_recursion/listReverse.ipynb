{
 "cells": [
  {
   "cell_type": "code",
   "execution_count": 1,
   "metadata": {},
   "outputs": [
    {
     "name": "stdout",
     "output_type": "stream",
     "text": [
      "[5, 4, 3, 2, 1]\n"
     ]
    }
   ],
   "source": [
    "def reverse_recursive(lst):\n",
    "    '''reversed(lst) = reversed(lst[1::]) + lst[0]'''\n",
    "    if len(lst) <= 1:\n",
    "        return lst\n",
    "    return reverse_recursive(lst[1::]) + [lst[0]]\n",
    "\n",
    "\n",
    "testlist = [1, 2, 3, 4, 5] # [5, 4, 3, 2, 1]\n",
    "print(reverse_recursive(testlist))"
   ]
  }
 ],
 "metadata": {
  "kernelspec": {
   "display_name": "Python 3",
   "language": "python",
   "name": "python3"
  },
  "language_info": {
   "codemirror_mode": {
    "name": "ipython",
    "version": 3
   },
   "file_extension": ".py",
   "mimetype": "text/x-python",
   "name": "python",
   "nbconvert_exporter": "python",
   "pygments_lexer": "ipython3",
   "version": "3.7.0"
  }
 },
 "nbformat": 4,
 "nbformat_minor": 2
}
