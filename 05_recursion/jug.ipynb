{
 "cells": [
  {
   "cell_type": "code",
   "execution_count": 1,
   "metadata": {},
   "outputs": [],
   "source": [
    "class Jug:\n",
    "    def __init__(self, limit):\n",
    "        self.volume = 0\n",
    "        self.limit = limit\n",
    "        \n",
    "    def __str__(self):\n",
    "        return str(self.volume)\n",
    "    \n",
    "    def empty(self):\n",
    "        self.volume = 0\n",
    "        \n",
    "    def fill(self):\n",
    "        self.volume = self.limit\n",
    "        \n",
    "    def pour(self, to_jug):\n",
    "        while not (self.isEmpty() or to_jug.isFull()):\n",
    "            self.volume -= 1\n",
    "            to_jug.volume += 1\n",
    "        return to_jug\n",
    "    \n",
    "    def isFull(self):\n",
    "        return self.volume == self.limit\n",
    "    \n",
    "    def isEmpty(self):\n",
    "        return self.volume == 0"
   ]
  },
  {
   "cell_type": "code",
   "execution_count": 2,
   "metadata": {},
   "outputs": [
    {
     "name": "stdout",
     "output_type": "stream",
     "text": [
      "A B\n",
      "===\n",
      "0 3 Fill B\n",
      "3 0 Pour from B to A\n",
      "3 3 Fill B\n",
      "4 2 Pour from B to A\n",
      "0 2 Empty A\n",
      "2 0 Pour from B to A\n",
      "2 3 Fill B\n",
      "4 1 Pour from B to A\n",
      "0 1 Empty A\n",
      "1 0 Pour from B to A\n"
     ]
    }
   ],
   "source": [
    "def jug_problem(targetVol, jugA, jugB):\n",
    "    '''Solves sequence needed for jugA to have targetVol'''\n",
    "    if targetVol > jugA.limit:\n",
    "        print('Target volume must be within the volume limit of Jug A.')\n",
    "        return\n",
    "    print('A B\\n===')\n",
    "    while True:\n",
    "        while not jugA.isFull():\n",
    "            jugB.fill()\n",
    "            print('{} {} Fill B'.format(jugA.volume, jugB.volume))\n",
    "            jugA = jugB.pour(jugA)\n",
    "            print('{} {} Pour from B to A'.format(jugA.volume, jugB.volume))\n",
    "            if jugA.volume == targetVol:\n",
    "                return\n",
    "        jugA.empty()\n",
    "        print('{} {} Empty A'.format(jugA.volume, jugB.volume))\n",
    "        jugA = jugB.pour(jugA)\n",
    "        print('{} {} Pour from B to A'.format(jugA.volume, jugB.volume))\n",
    "        if jugA.volume == targetVol:\n",
    "            return\n",
    "\n",
    "\n",
    "targetVol = 1\n",
    "jugA = Jug(4)\n",
    "jugB = Jug(3)\n",
    "\n",
    "jug_problem(targetVol, jugA, jugB)"
   ]
  }
 ],
 "metadata": {
  "kernelspec": {
   "display_name": "Python 3",
   "language": "python",
   "name": "python3"
  },
  "language_info": {
   "codemirror_mode": {
    "name": "ipython",
    "version": 3
   },
   "file_extension": ".py",
   "mimetype": "text/x-python",
   "name": "python",
   "nbconvert_exporter": "python",
   "pygments_lexer": "ipython3",
   "version": "3.7.0"
  }
 },
 "nbformat": 4,
 "nbformat_minor": 2
}
