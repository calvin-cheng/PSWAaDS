{
 "cells": [
  {
   "cell_type": "code",
   "execution_count": 1,
   "metadata": {},
   "outputs": [],
   "source": [
    "class Stack:\n",
    "    def __init__(self, items=[]):\n",
    "        self.items = items\n",
    "        if self.items:\n",
    "            self.top = self.items[-1]\n",
    "        else:\n",
    "            self.top = None\n",
    "    \n",
    "    def __str__(self):\n",
    "        return \"{}\".format(self.items)\n",
    "    \n",
    "    def push(self, item):\n",
    "        self.items.append(item)\n",
    "        self.top = self.items[-1]\n",
    "    \n",
    "    def pop(self):\n",
    "        if len(self.items) > 1:\n",
    "            self.top = self.items[-2]\n",
    "        else:\n",
    "            self.top = None\n",
    "        return self.items.pop()\n",
    "    \n",
    "    def peek(self):\n",
    "        return self.top\n",
    "    \n",
    "    def isEmpty(self):\n",
    "        return self.items == []\n",
    "    \n",
    "    def size(self):\n",
    "        return len(self.items)"
   ]
  },
  {
   "cell_type": "code",
   "execution_count": 103,
   "metadata": {},
   "outputs": [],
   "source": [
    "def in2pre(command):\n",
    "    command = command.replace(' ', '') # Strip whitespace\n",
    "    tokens = list(command[::-1])  # Tokenise from right to left\n",
    "\n",
    "    prec = {'+': 1,    # Higher number = higher precedence\n",
    "            '-': 1,\n",
    "            '*': 2,\n",
    "            '/': 2,\n",
    "            '^': 3,\n",
    "            ')': 0}\n",
    "    \n",
    "    opStack = Stack([])\n",
    "    output = ''\n",
    "    for token in tokens:\n",
    "        if token not in '+-*/^()':\n",
    "            output += token + ' '\n",
    "        else:\n",
    "            if opStack.isEmpty() or token == ')':\n",
    "                opStack.push(token)\n",
    "                continue\n",
    "            if token == '(':\n",
    "                operator = opStack.pop()\n",
    "                while operator != ')':\n",
    "                    output += operator + ' '\n",
    "                    operator = opStack.pop()\n",
    "                continue\n",
    "            while not opStack.isEmpty() and prec[token] <= prec[opStack.peek()]:\n",
    "                operator = opStack.pop()\n",
    "                output += operator + ' '\n",
    "            opStack.push(token)\n",
    "    while not opStack.isEmpty():\n",
    "        output += opStack.pop() + ' '\n",
    "    return output[-2::-1] # Reflips output and trims extra space in the end"
   ]
  },
  {
   "cell_type": "code",
   "execution_count": 104,
   "metadata": {
    "scrolled": true
   },
   "outputs": [
    {
     "name": "stdout",
     "output_type": "stream",
     "text": [
      "* A / + B C D\n",
      "* A + B / C D\n",
      "+ 😎 * 😂 + 🥺 😤\n"
     ]
    }
   ],
   "source": [
    "command1 = 'A * ( B + C ) / D'\n",
    "command2 = 'A * (B + C / D)'\n",
    "command3 = '😎 + 😂 * ( 🥺 + 😤 )'\n",
    "print(in2pre(command1)) # / * A + B C D\n",
    "print(in2pre(command2)) # * A + B / C D\n",
    "print(in2pre(command3))"
   ]
  },
  {
   "cell_type": "code",
   "execution_count": 116,
   "metadata": {},
   "outputs": [],
   "source": [
    "def in2post(command):\n",
    "    command = command.replace(' ', '') # Strip whitespace\n",
    "    tokens = list(command)  # Tokenise from right to left\n",
    "\n",
    "    prec = {'+': 1,    # Higher number = higher precedence\n",
    "            '-': 1,\n",
    "            '*': 2,\n",
    "            '/': 2,\n",
    "            '^': 3,\n",
    "            '(': 0}\n",
    "    \n",
    "    opStack = Stack([])\n",
    "    output = ''\n",
    "    for token in tokens:\n",
    "        if token not in '+-*/^()':\n",
    "            output += token + ' '\n",
    "        else:\n",
    "            if opStack.isEmpty() or token == '(':\n",
    "                opStack.push(token)\n",
    "                continue\n",
    "            if token == ')':\n",
    "                operator = None\n",
    "                while operator != '(':\n",
    "                    operator = opStack.pop()\n",
    "                    if operator not in '()':\n",
    "                        output += operator + ' '\n",
    "                continue\n",
    "            while not opStack.isEmpty() and prec[token] <= prec[opStack.peek()]:\n",
    "                operator = opStack.pop()\n",
    "                output += operator + ' '\n",
    "            opStack.push(token)\n",
    "    while not opStack.isEmpty():\n",
    "        output += opStack.pop() + ' '\n",
    "    return output # Reflips output and trims extra space in the end"
   ]
  },
  {
   "cell_type": "code",
   "execution_count": 106,
   "metadata": {},
   "outputs": [
    {
     "name": "stdout",
     "output_type": "stream",
     "text": [
      "A B C + * D / \n",
      "A B C D / + * \n",
      "A B + C * \n"
     ]
    }
   ],
   "source": [
    "print(in2post(command1)) # A B C + * D /\n",
    "print(in2post(command2)) # A B C D / + *\n",
    "print(in2post(\"( A + B ) * C\"))"
   ]
  }
 ],
 "metadata": {
  "kernelspec": {
   "display_name": "Python 3",
   "language": "python",
   "name": "python3"
  },
  "language_info": {
   "codemirror_mode": {
    "name": "ipython",
    "version": 3
   },
   "file_extension": ".py",
   "mimetype": "text/x-python",
   "name": "python",
   "nbconvert_exporter": "python",
   "pygments_lexer": "ipython3",
   "version": "3.7.3"
  }
 },
 "nbformat": 4,
 "nbformat_minor": 4
}
