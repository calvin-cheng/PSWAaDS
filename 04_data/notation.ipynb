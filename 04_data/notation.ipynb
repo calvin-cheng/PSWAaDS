{
 "cells": [
  {
   "cell_type": "code",
   "execution_count": 1,
   "metadata": {},
   "outputs": [],
   "source": [
    "class Stack:\n",
    "    def __init__(self, items=[]):\n",
    "        self.items = items\n",
    "        if self.items:\n",
    "            self.top = self.items[-1]\n",
    "        else:\n",
    "            self.top = None\n",
    "    \n",
    "    def __str__(self):\n",
    "        return \"{}\".format(self.items)\n",
    "    \n",
    "    def push(self, item):\n",
    "        self.items.append(item)\n",
    "        self.top = self.items[-1]\n",
    "    \n",
    "    def pop(self):\n",
    "        if len(self.items) > 1:\n",
    "            self.top = self.items[-2]\n",
    "        else:\n",
    "            self.top = None\n",
    "        return self.items.pop()\n",
    "    \n",
    "    def peek(self):\n",
    "        return self.top\n",
    "    \n",
    "    def isEmpty(self):\n",
    "        return self.items == []\n",
    "    \n",
    "    def size(self):\n",
    "        return len(self.items)"
   ]
  },
  {
   "cell_type": "code",
   "execution_count": 2,
   "metadata": {},
   "outputs": [],
   "source": [
    "def in2pre(command):\n",
    "    tokens = list(command[::-1].split())  # Tokenise from right to left\n",
    "\n",
    "    prec = {'+': 1,    # Higher number = higher precedence\n",
    "            '-': 1,\n",
    "            '*': 2,\n",
    "            '/': 2,\n",
    "            '^': 3,\n",
    "            ')': 0}\n",
    "    \n",
    "    opStack = Stack([])\n",
    "    output = ''\n",
    "    for token in tokens:\n",
    "        if token not in '+-*/^()':\n",
    "            output += token + ' '\n",
    "        else:\n",
    "            if opStack.isEmpty() or token == ')':\n",
    "                opStack.push(token)\n",
    "                continue\n",
    "            if token == '(':\n",
    "                operator = opStack.pop()\n",
    "                while operator != ')':\n",
    "                    output += operator + ' '\n",
    "                    operator = opStack.pop()\n",
    "                continue\n",
    "            while not opStack.isEmpty() and prec[token] <= prec[opStack.peek()]:\n",
    "                operator = opStack.pop()\n",
    "                output += operator + ' '\n",
    "            opStack.push(token)\n",
    "    while not opStack.isEmpty():\n",
    "        output += opStack.pop() + ' '\n",
    "    return output[-2::-1] # Reflips output and trims extra space in the end"
   ]
  },
  {
   "cell_type": "code",
   "execution_count": 3,
   "metadata": {
    "scrolled": true
   },
   "outputs": [
    {
     "name": "stdout",
     "output_type": "stream",
     "text": [
      "* A / + B C D\n",
      "+ * A (B / C D)\n",
      "+ 😎 * 😂 + 🥺 😤\n"
     ]
    }
   ],
   "source": [
    "command1 = 'A * ( B + C ) / D'\n",
    "command2 = 'A * (B + C / D)'\n",
    "command3 = '😎 + 😂 * ( 🥺 + 😤 )'\n",
    "print(in2pre(command1)) # / * A + B C D\n",
    "print(in2pre(command2)) # * A + B / C D\n",
    "print(in2pre(command3))"
   ]
  },
  {
   "cell_type": "code",
   "execution_count": 4,
   "metadata": {},
   "outputs": [],
   "source": [
    "def in2post(command):\n",
    "    tokens = list(command.split())  # Tokenise from right to left\n",
    "\n",
    "    prec = {'+': 1,    # Higher number = higher precedence\n",
    "            '-': 1,\n",
    "            '*': 2,\n",
    "            '/': 2,\n",
    "            '^': 3,\n",
    "            '(': 0}\n",
    "    \n",
    "    opStack = Stack([])\n",
    "    output = ''\n",
    "    for token in tokens:\n",
    "        if token not in '+-*/^()':\n",
    "            output += token + ' '\n",
    "        else:\n",
    "            if opStack.isEmpty() or token == '(':\n",
    "                opStack.push(token)\n",
    "                continue\n",
    "            if token == ')':\n",
    "                operator = None\n",
    "                while operator != '(':\n",
    "                    operator = opStack.pop()\n",
    "                    if operator not in '()':\n",
    "                        output += operator + ' '\n",
    "                continue\n",
    "            while not opStack.isEmpty() and prec[token] <= prec[opStack.peek()]:\n",
    "                operator = opStack.pop()\n",
    "                output += operator + ' '\n",
    "            opStack.push(token)\n",
    "    while not opStack.isEmpty():\n",
    "        output += opStack.pop() + ' '\n",
    "    return output # Reflips output and trims extra space in the end"
   ]
  },
  {
   "cell_type": "code",
   "execution_count": 5,
   "metadata": {},
   "outputs": [
    {
     "name": "stdout",
     "output_type": "stream",
     "text": [
      "A B C + * D / \n",
      "A (B * C D) / + \n",
      "A B + C * \n"
     ]
    }
   ],
   "source": [
    "print(in2post(command1)) # A B C + * D /\n",
    "print(in2post(command2)) # A B C D / + *\n",
    "print(in2post(\"( A + B ) * C\"))"
   ]
  },
  {
   "cell_type": "code",
   "execution_count": 6,
   "metadata": {},
   "outputs": [],
   "source": [
    "def postEval(command):\n",
    "    '''Evaluates postfix expressions (Only works with integers)'''\n",
    "    operandStack = Stack([])\n",
    "    #command = command.replace(' ', '')\n",
    "    tokens = list(command.split())\n",
    "    for token in tokens:\n",
    "        if token not in '+-*/^()':\n",
    "            operandStack.push(token)\n",
    "        else:\n",
    "            operand1 = int(operandStack.pop())\n",
    "            operand2 = int(operandStack.pop())\n",
    "            if token in '()':\n",
    "                continue\n",
    "            elif token == '+':\n",
    "                operandStack.push(operand2 + operand1)\n",
    "            elif token == '-':\n",
    "                operandStack.push(operand2 - operand1)\n",
    "            elif token == '*':\n",
    "                operandStack.push(operand2 * operand1)\n",
    "            elif token == '/':\n",
    "                operandStack.push(operand2 / operand1)\n",
    "            elif token == '^':\n",
    "                operandStack.push(operand2 ** operand1)\n",
    "    return operandStack.pop()"
   ]
  },
  {
   "cell_type": "code",
   "execution_count": 7,
   "metadata": {},
   "outputs": [
    {
     "name": "stdout",
     "output_type": "stream",
     "text": [
      "7\n"
     ]
    }
   ],
   "source": [
    "command1 = '1 2 + 3 *' # 9\n",
    "command2 = '3 5 7 + ^ 9 12 *'\n",
    "command3 = '1 2 3 * +'\n",
    "print(postEval(command3))"
   ]
  },
  {
   "cell_type": "code",
   "execution_count": 8,
   "metadata": {},
   "outputs": [],
   "source": [
    "def inEval(command):\n",
    "    '''\n",
    "    Evaluates infix expression by converting to postfix \n",
    "    then running postEval() \n",
    "    '''\n",
    "    return postEval(in2post(command))"
   ]
  },
  {
   "cell_type": "code",
   "execution_count": 9,
   "metadata": {},
   "outputs": [
    {
     "name": "stdout",
     "output_type": "stream",
     "text": [
      "65\n",
      "257\n",
      "4\n"
     ]
    }
   ],
   "source": [
    "command1 = '5 + 2 * 30' # 65\n",
    "command2 = '2 ^ 8 + 1' # 257\n",
    "command3 = '24 / 8 + 1' # 4\n",
    "print(inEval(command1))\n",
    "print(inEval(command2))\n",
    "print(inEval(command3))"
   ]
  }
 ],
 "metadata": {
  "kernelspec": {
   "display_name": "Python 3",
   "language": "python",
   "name": "python3"
  },
  "language_info": {
   "codemirror_mode": {
    "name": "ipython",
    "version": 3
   },
   "file_extension": ".py",
   "mimetype": "text/x-python",
   "name": "python",
   "nbconvert_exporter": "python",
   "pygments_lexer": "ipython3",
   "version": "3.7.3"
  }
 },
 "nbformat": 4,
 "nbformat_minor": 4
}
