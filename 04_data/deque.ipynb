{
 "cells": [
  {
   "cell_type": "code",
   "execution_count": 6,
   "metadata": {},
   "outputs": [],
   "source": [
    "class Deque():\n",
    "    def __init__(self, items=[]):\n",
    "        self.items = items\n",
    "        \n",
    "    def __str__(self):\n",
    "        return str(self.items)\n",
    "    \n",
    "    def addFront(self, item):\n",
    "        self.items.append(item)\n",
    "        \n",
    "    def addRear(self, item):\n",
    "        self.items.insert(0, item)\n",
    "        \n",
    "    def removeFront(self):\n",
    "        return self.items.pop()\n",
    "    \n",
    "    def removeRear(self):\n",
    "        return self.items.pop(0)\n",
    "    \n",
    "    def isEmpty(self):\n",
    "        return self.items == []\n",
    "    \n",
    "    def size(self):\n",
    "        return len(self.items)"
   ]
  },
  {
   "cell_type": "code",
   "execution_count": 7,
   "metadata": {},
   "outputs": [
    {
     "name": "stdout",
     "output_type": "stream",
     "text": [
      "[]\n",
      "\n",
      "['bread', 'milk']\n",
      "\n",
      "['cereal', 'bread', 'milk']\n",
      "\n"
     ]
    }
   ],
   "source": [
    "d = Deque([])\n",
    "print(d, end='\\n\\n')\n",
    "\n",
    "d.addFront('bread')\n",
    "d.addFront('milk')\n",
    "print(d, end='\\n\\n')\n",
    "\n",
    "d.addRear('cereal')\n",
    "print(d, end='\\n\\n')"
   ]
  },
  {
   "cell_type": "code",
   "execution_count": 32,
   "metadata": {},
   "outputs": [],
   "source": [
    "# Palindrome checker\n",
    "\n",
    "def isPalindrome(string):\n",
    "    result = True\n",
    "    d = Deque(list(string))\n",
    "    \n",
    "    for char in range(len(string)//2):\n",
    "        if d.removeRear() != d.removeFront():\n",
    "            result = False\n",
    "    \n",
    "    return result\n",
    "\n",
    "def isPalindrome2(string):\n",
    "    return string == string[::-1]"
   ]
  },
  {
   "cell_type": "code",
   "execution_count": 54,
   "metadata": {},
   "outputs": [
    {
     "name": "stdout",
     "output_type": "stream",
     "text": [
      "False\n",
      "False\n",
      "isPalindrome(): 0.000218\n",
      "isPalindrome2(): 0.000030\n"
     ]
    }
   ],
   "source": [
    "import timeit\n",
    "\n",
    "\n",
    "\n",
    "x = 'minimal'  # False\n",
    "string2 = 'rotator' # True\n",
    "string3 = 'racecar'  # True\n",
    "print(isPalindrome(x))\n",
    "print(isPalindrome2(x))\n",
    "\n",
    "\n",
    "t = timeit.Timer('isPalindrome(x)', 'from __main__ import isPalindrome, x')\n",
    "t2 = timeit.Timer('isPalindrome2(x)', 'from __main__ import isPalindrome2, x')\n",
    "time = t.timeit(number=100)\n",
    "time2 = t2.timeit(number=100)\n",
    "print('isPalindrome(): {:3f}'.format(time))\n",
    "print('isPalindrome2(): {:3f}'.format(time2))\n",
    "\n",
    "\n",
    "\n",
    "#print(isPalindrome(string1))\n",
    "#print(isPalindrome2(string1))"
   ]
  }
 ],
 "metadata": {
  "kernelspec": {
   "display_name": "Python 3",
   "language": "python",
   "name": "python3"
  },
  "language_info": {
   "codemirror_mode": {
    "name": "ipython",
    "version": 3
   },
   "file_extension": ".py",
   "mimetype": "text/x-python",
   "name": "python",
   "nbconvert_exporter": "python",
   "pygments_lexer": "ipython3",
   "version": "3.7.3"
  }
 },
 "nbformat": 4,
 "nbformat_minor": 4
}
