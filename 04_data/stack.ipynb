{
 "cells": [
  {
   "cell_type": "markdown",
   "metadata": {},
   "source": [
    "### Implementing a Stack"
   ]
  },
  {
   "cell_type": "code",
   "execution_count": 5,
   "metadata": {},
   "outputs": [],
   "source": [
    "class Stack:\n",
    "    def __init__(self, items=[]):\n",
    "        self.items = items\n",
    "        if self.items:\n",
    "            self.top = self.items[-1]\n",
    "        else:\n",
    "            self.top = None\n",
    "    \n",
    "    def __str__(self):\n",
    "        return \"{}\".format(self.items)\n",
    "    \n",
    "    def push(self, item):\n",
    "        self.items.append(item)\n",
    "        self.top = self.items[-1]\n",
    "    \n",
    "    def pop(self):\n",
    "        if len(self.items) > 1:\n",
    "            self.top = self.items[-2]\n",
    "        else:\n",
    "            self.top = None\n",
    "        return self.items.pop()\n",
    "    \n",
    "    def peek(self):\n",
    "        return self.top\n",
    "    \n",
    "    def isEmpty(self):\n",
    "        return self.items == []\n",
    "    \n",
    "    def size(self):\n",
    "        return len(self.items)"
   ]
  },
  {
   "cell_type": "code",
   "execution_count": 6,
   "metadata": {},
   "outputs": [
    {
     "name": "stdout",
     "output_type": "stream",
     "text": [
      "True\n",
      "[5, True, 'Hello']\n",
      "Hello\n",
      "3\n",
      "Hello\n",
      "True\n",
      "1\n",
      "5\n"
     ]
    }
   ],
   "source": [
    "s = Stack()\n",
    "\n",
    "print(s.isEmpty())\n",
    "s.push(5)\n",
    "s.push(True)\n",
    "s.push('Hello')\n",
    "print(s)        # [5, True, 'Hello']\n",
    "print(s.peek()) # Hello\n",
    "print(s.size()) # 3\n",
    "print(s.pop())  # Hello\n",
    "print(s.pop())  # True\n",
    "print(s.size()) # 1\n",
    "print(s.pop())  # 5"
   ]
  },
  {
   "cell_type": "code",
   "execution_count": 7,
   "metadata": {},
   "outputs": [],
   "source": [
    "def revstring(mystr):\n",
    "    s = Stack(list(mystr))\n",
    "    strReverse = []\n",
    "    while not s.isEmpty():\n",
    "        strReverse.append(s.pop())\n",
    "    return ''.join(strReverse)\n",
    "\n",
    "# return mystr[::-1] would be more elegant"
   ]
  },
  {
   "cell_type": "code",
   "execution_count": 11,
   "metadata": {},
   "outputs": [
    {
     "name": "stdout",
     "output_type": "stream",
     "text": [
      "emordnilap\n"
     ]
    }
   ],
   "source": [
    "mystr = 'palindrome'\n",
    "print(mystr[::-1])"
   ]
  }
 ],
 "metadata": {
  "kernelspec": {
   "display_name": "Python 3",
   "language": "python",
   "name": "python3"
  },
  "language_info": {
   "codemirror_mode": {
    "name": "ipython",
    "version": 3
   },
   "file_extension": ".py",
   "mimetype": "text/x-python",
   "name": "python",
   "nbconvert_exporter": "python",
   "pygments_lexer": "ipython3",
   "version": "3.7.3"
  }
 },
 "nbformat": 4,
 "nbformat_minor": 4
}
