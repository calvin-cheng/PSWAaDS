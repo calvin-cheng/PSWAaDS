{
 "cells": [
  {
   "cell_type": "code",
   "execution_count": 1,
   "metadata": {},
   "outputs": [],
   "source": [
    "def radixSort(array):\n",
    "    temp = array[:]\n",
    "    result = [None] * len(array)    # Preallocate\n",
    "    pos = 0  # Gets the 0th digit of number\n",
    "    for _ in range(maxDigits(array)):\n",
    "        idx = 0\n",
    "        for digit in range(10):\n",
    "            for num in temp:\n",
    "                numDigit = num % (10 ** (pos + 1)) // (10 ** pos)    # get ones/tens/etc digit\n",
    "                if numDigit == digit:\n",
    "                    result[idx] = num\n",
    "                    idx += 1\n",
    "        pos += 1\n",
    "        temp = result[:]\n",
    "    return result\n",
    "        \n",
    "def maxDigits(array):\n",
    "    ''' Returns maximum number of digits in an element within an array'''\n",
    "    \n",
    "    maxNum = array[0]\n",
    "    for num in array:\n",
    "        if num > maxNum:\n",
    "            maxNum = num\n",
    "    numDigits = 0 \n",
    "    while maxNum > 0:\n",
    "        maxNum //= 10\n",
    "        numDigits += 1\n",
    "    return numDigits"
   ]
  },
  {
   "cell_type": "code",
   "execution_count": 2,
   "metadata": {},
   "outputs": [
    {
     "name": "stdout",
     "output_type": "stream",
     "text": [
      "[1, 10, 123, 6234]\n",
      "[None, None, None]\n",
      "[1, 10, 123, 6234, -400, -234, -50, -1]\n"
     ]
    }
   ],
   "source": [
    "lst = [1, 10, 123, 6234]\n",
    "lstNegative = [-400, -50, -234]\n",
    "lstMix = [1, 10, 123, 6234, -400, -50, -234, -1]\n",
    "print(radixSort(lst))\n",
    "print(radixSort(lstNegative))\n",
    "print(radixSort(lstMix))"
   ]
  },
  {
   "cell_type": "markdown",
   "metadata": {},
   "source": [
    "To sort negative numbers, it's best to filter them out, temporarily convert them into positive digits (i.e. multiply by $-1$), sort with radix then put them back together with "
   ]
  },
  {
   "cell_type": "code",
   "execution_count": 15,
   "metadata": {},
   "outputs": [
    {
     "data": {
      "text/plain": [
       "8"
      ]
     },
     "execution_count": 15,
     "metadata": {},
     "output_type": "execute_result"
    }
   ],
   "source": [
    "-422 % (10 ** (0 + 1)) // (10 ** 0)   # get ones/tens/etc digit"
   ]
  }
 ],
 "metadata": {
  "kernelspec": {
   "display_name": "Python 3",
   "language": "python",
   "name": "python3"
  },
  "language_info": {
   "codemirror_mode": {
    "name": "ipython",
    "version": 3
   },
   "file_extension": ".py",
   "mimetype": "text/x-python",
   "name": "python",
   "nbconvert_exporter": "python",
   "pygments_lexer": "ipython3",
   "version": "3.7.3"
  }
 },
 "nbformat": 4,
 "nbformat_minor": 4
}
