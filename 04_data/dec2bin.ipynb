{
 "cells": [
  {
   "cell_type": "code",
   "execution_count": 5,
   "metadata": {},
   "outputs": [],
   "source": [
    "class Stack:\n",
    "    def __init__(self, items=[]):\n",
    "        self.items = items\n",
    "        if self.items:\n",
    "            self.top = self.items[-1]\n",
    "        else:\n",
    "            self.top = None\n",
    "    \n",
    "    def __str__(self):\n",
    "        return \"{}\".format(self.items)\n",
    "    \n",
    "    def push(self, item):\n",
    "        self.items.append(item)\n",
    "        self.top = self.items[-1]\n",
    "    \n",
    "    def pop(self):\n",
    "        if len(self.items) > 1:\n",
    "            self.top = self.items[-2]\n",
    "        else:\n",
    "            self.top = None\n",
    "        return self.items.pop()\n",
    "    \n",
    "    def peek(self):\n",
    "        return self.top\n",
    "    \n",
    "    def isEmpty(self):\n",
    "        return self.items == []\n",
    "    \n",
    "    def size(self):\n",
    "        return len(self.items)"
   ]
  },
  {
   "cell_type": "code",
   "execution_count": 58,
   "metadata": {},
   "outputs": [],
   "source": [
    "def dec2bin(decimal):\n",
    "    if type(decimal) != int:\n",
    "        print('Please enter a valid integer.')\n",
    "        return None\n",
    "    \n",
    "    s = Stack([])    \n",
    "    if decimal == 0:\n",
    "        return 0\n",
    "    else:\n",
    "        while decimal != 0:\n",
    "            s.push(decimal % 2)\n",
    "            decimal = decimal // 2\n",
    "        lst = []\n",
    "        while not s.isEmpty():\n",
    "            lst.append(s.pop())\n",
    "        return ''.join([str(digit) for digit in lst])"
   ]
  },
  {
   "cell_type": "code",
   "execution_count": 61,
   "metadata": {},
   "outputs": [
    {
     "name": "stdout",
     "output_type": "stream",
     "text": [
      "10\n"
     ]
    }
   ],
   "source": [
    "print(dec2bin(2))"
   ]
  },
  {
   "cell_type": "code",
   "execution_count": 6,
   "metadata": {},
   "outputs": [],
   "source": [
    "def dec2hex(decimal):\n",
    "    if type(decimal) != int:\n",
    "        print('Please enter a valid integer.')\n",
    "        return None\n",
    "    \n",
    "    chars = '0123456789ABCDEF'\n",
    "    \n",
    "    s = Stack([])\n",
    "    if decimal == 0:\n",
    "        return 0\n",
    "    else:\n",
    "        while decimal != 0:\n",
    "            s.push(chars[decimal % 16]) # Note difference from dec2bin\n",
    "            decimal = decimal // 16\n",
    "        lst = []\n",
    "        while not s.isEmpty():\n",
    "            lst.append(s.pop())\n",
    "        return ''.join([str(digit) for digit in lst])    "
   ]
  },
  {
   "cell_type": "code",
   "execution_count": 13,
   "metadata": {},
   "outputs": [
    {
     "name": "stdout",
     "output_type": "stream",
     "text": [
      "6685\n"
     ]
    }
   ],
   "source": [
    "print(dec2hex(26245))"
   ]
  },
  {
   "cell_type": "code",
   "execution_count": 14,
   "metadata": {},
   "outputs": [],
   "source": [
    "# TODO: hex2dec? bin2dec?"
   ]
  }
 ],
 "metadata": {
  "kernelspec": {
   "display_name": "Python 3",
   "language": "python",
   "name": "python3"
  },
  "language_info": {
   "codemirror_mode": {
    "name": "ipython",
    "version": 3
   },
   "file_extension": ".py",
   "mimetype": "text/x-python",
   "name": "python",
   "nbconvert_exporter": "python",
   "pygments_lexer": "ipython3",
   "version": "3.7.3"
  }
 },
 "nbformat": 4,
 "nbformat_minor": 4
}
