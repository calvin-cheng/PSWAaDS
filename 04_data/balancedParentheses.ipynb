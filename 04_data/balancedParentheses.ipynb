{
 "cells": [
  {
   "cell_type": "markdown",
   "metadata": {},
   "source": [
    "The challenge then is to write an algorithm that will read a string of parentheses from left to right and decide whether the symbols are balanced. "
   ]
  },
  {
   "cell_type": "code",
   "execution_count": 1,
   "metadata": {},
   "outputs": [],
   "source": [
    "class Stack:\n",
    "    def __init__(self, items=[]):\n",
    "        self.items = items\n",
    "        if self.items:\n",
    "            self.top = self.items[-1]\n",
    "        else:\n",
    "            self.top = None\n",
    "    \n",
    "    def __str__(self):\n",
    "        return \"{}\".format(self.items)\n",
    "    \n",
    "    def push(self, item):\n",
    "        self.items.append(item)\n",
    "        self.top = self.items[-1]\n",
    "    \n",
    "    def pop(self):\n",
    "        if len(self.items) > 1:\n",
    "            self.top = self.items[-2]\n",
    "        else:\n",
    "            self.top = None\n",
    "        return self.items.pop()\n",
    "    \n",
    "    def peek(self):\n",
    "        return self.top\n",
    "    \n",
    "    def isEmpty(self):\n",
    "        return self.items == []\n",
    "    \n",
    "    def size(self):\n",
    "        return len(self.items)"
   ]
  },
  {
   "cell_type": "code",
   "execution_count": 2,
   "metadata": {},
   "outputs": [],
   "source": [
    "def checkParenth(string):\n",
    "    # Returns True if okay, False otherwise.\n",
    "    s = Stack([])    # s = Stack() doesn't work?\n",
    "    for idx in range(len(string)):\n",
    "        # Ignore non-valid characters\n",
    "        if string[idx] not in '([{}])': \n",
    "            pass\n",
    "        # Check for mismatched parentheses e.g: ({)}\n",
    "        if string[idx] in '([{':\n",
    "            s.push(string[idx])\n",
    "        elif string[idx] == ')':\n",
    "            if s.pop() != '(':\n",
    "                print('Please check character {} - (.'.format(idx))\n",
    "                return False\n",
    "        elif string[idx] == ']':\n",
    "            if s.pop() != '[':\n",
    "                print('Please check character {} - [.'.format(idx))\n",
    "                return False\n",
    "        elif string[idx] == '}':\n",
    "            if s.pop() != '{':\n",
    "                print('Please check character {} - {{.'.format(idx))\n",
    "                return False\n",
    "    # Returns false if missing parentheses e.g.: (()\n",
    "    return s.isEmpty()\n",
    "\n",
    "# TODO: Use string.index(substring) to reduce elifs"
   ]
  },
  {
   "cell_type": "code",
   "execution_count": 3,
   "metadata": {},
   "outputs": [
    {
     "name": "stdout",
     "output_type": "stream",
     "text": [
      "True\n",
      "False\n",
      "Please check character 3 - {.\n",
      "False\n",
      "True\n"
     ]
    }
   ],
   "source": [
    "string1 = '((()))'\n",
    "string2 = '({{[]}}'\n",
    "string3 = '({(}))'\n",
    "string4 = '([[]]{}({}[]))'\n",
    "\n",
    "print(checkParenth(string1))\n",
    "print(checkParenth(string2))\n",
    "print(checkParenth(string3))\n",
    "print(checkParenth(string4))"
   ]
  }
 ],
 "metadata": {
  "kernelspec": {
   "display_name": "Python 3",
   "language": "python",
   "name": "python3"
  },
  "language_info": {
   "codemirror_mode": {
    "name": "ipython",
    "version": 3
   },
   "file_extension": ".py",
   "mimetype": "text/x-python",
   "name": "python",
   "nbconvert_exporter": "python",
   "pygments_lexer": "ipython3",
   "version": "3.7.3"
  }
 },
 "nbformat": 4,
 "nbformat_minor": 4
}
