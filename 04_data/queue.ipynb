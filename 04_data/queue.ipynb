{
 "cells": [
  {
   "cell_type": "code",
   "execution_count": 1,
   "metadata": {},
   "outputs": [],
   "source": [
    "class Queue():\n",
    "    def __init__(self, items=[]):\n",
    "        self.items = items\n",
    "        if self.items:\n",
    "            self.next = self.items[0]\n",
    "        else:\n",
    "            self.next = None\n",
    "        \n",
    "    def __str__(self):\n",
    "        return str(self.items)\n",
    "    \n",
    "    def enqueue(self, item):\n",
    "        self.items.append(item)\n",
    "        self.next = self.items[0]\n",
    "        \n",
    "    def dequeue(self):\n",
    "        if self.isEmpty():\n",
    "            print('Cannot dequeue an empty Queue.')\n",
    "            return None\n",
    "        elif self.size() == 1:\n",
    "            self.next = None\n",
    "        else:\n",
    "            self.next = self.items[0]\n",
    "        return self.items.pop(0)\n",
    "    \n",
    "    def peek(self):\n",
    "        return self.next\n",
    "    \n",
    "    def isEmpty(self):\n",
    "        return self.items == []\n",
    "    \n",
    "    def size(self):\n",
    "        return len(self.items)"
   ]
  },
  {
   "cell_type": "code",
   "execution_count": 2,
   "metadata": {},
   "outputs": [
    {
     "name": "stdout",
     "output_type": "stream",
     "text": [
      "[]\n",
      "None\n",
      "\n",
      "[5, True, 'basketball']\n",
      "5\n",
      "\n",
      "[True, 'basketball']\n"
     ]
    }
   ],
   "source": [
    "q = Queue([])\n",
    "\n",
    "print(q)\n",
    "print(q.next, end='\\n\\n')\n",
    "\n",
    "q.enqueue(5)\n",
    "q.enqueue(True)\n",
    "q.enqueue('basketball')\n",
    "\n",
    "print(q)\n",
    "print(q.next, end='\\n\\n')\n",
    "\n",
    "q.dequeue()\n",
    "\n",
    "print(q)"
   ]
  }
 ],
 "metadata": {
  "kernelspec": {
   "display_name": "Python 3",
   "language": "python",
   "name": "python3"
  },
  "language_info": {
   "codemirror_mode": {
    "name": "ipython",
    "version": 3
   },
   "file_extension": ".py",
   "mimetype": "text/x-python",
   "name": "python",
   "nbconvert_exporter": "python",
   "pygments_lexer": "ipython3",
   "version": "3.7.3"
  }
 },
 "nbformat": 4,
 "nbformat_minor": 4
}
