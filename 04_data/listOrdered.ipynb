{
 "cells": [
  {
   "cell_type": "code",
   "execution_count": 1,
   "metadata": {},
   "outputs": [],
   "source": [
    "class Node:\n",
    "    def __init__(self, data=None):\n",
    "        self.data = data\n",
    "        self.next = None"
   ]
  },
  {
   "cell_type": "code",
   "execution_count": 9,
   "metadata": {},
   "outputs": [],
   "source": [
    "class OrderedList:\n",
    "    def __init__(self):\n",
    "        self.head = None\n",
    "        \n",
    "    def add(self, node):\n",
    "        if self.head:\n",
    "            currentNode = self.head\n",
    "            while currentNode.next and node.data > currentNode.next.data:\n",
    "                currentNode = currentNode.next\n",
    "            temp = currentNode.next\n",
    "            currentNode.next = node\n",
    "            currentNode.next.next = temp\n",
    "        else:\n",
    "            self.head = node\n",
    "            \n",
    "    def visualise(self):\n",
    "        nodes = []\n",
    "        currentNode = self.head\n",
    "        while currentNode:\n",
    "            nodes.append(currentNode.data)\n",
    "            currentNode = currentNode.next\n",
    "        print(nodes)\n",
    "        \n",
    "    def delete(self, node):\n",
    "        if self.isEmpty():\n",
    "            print('List is already empty.')\n",
    "            return\n",
    "        if self.head == node:\n",
    "            self.head = self.head.next\n",
    "        else:\n",
    "            currentNode = self.head\n",
    "            while currentNode.next:\n",
    "                if currentNode.next == node:\n",
    "                    break\n",
    "                currentNode = currentNode.next\n",
    "            currentNode.next = currentNode.next.next\n",
    "            \n",
    "    def search(self, node):\n",
    "        if self.isEmpty():\n",
    "            print('List is already empty.')\n",
    "            return\n",
    "        \n",
    "        result = False\n",
    "        currentNode = self.head\n",
    "        if currentNode == node:\n",
    "            result = True\n",
    "        while currentNode.next:\n",
    "            if currentNode.nex == node:\n",
    "                result = True\n",
    "                break\n",
    "            currentNode = currentNode.next\n",
    "        return result\n",
    "    \n",
    "    def isEmpty(self):\n",
    "        return self.head == None"
   ]
  },
  {
   "cell_type": "code",
   "execution_count": 10,
   "metadata": {},
   "outputs": [
    {
     "name": "stdout",
     "output_type": "stream",
     "text": [
      "[2, 7]\n",
      "False\n",
      "[2, 5, 7]\n",
      "[2, 5]\n",
      "[5]\n"
     ]
    }
   ],
   "source": [
    "ol = OrderedList()\n",
    "\n",
    "n1 = Node(2)\n",
    "n2 = Node(7)\n",
    "n3 = Node(5)\n",
    "\n",
    "ol.add(n1)\n",
    "ol.add(n2)\n",
    "ol.visualise()\n",
    "print(ol.search(n2))\n",
    "ol.add(n3)\n",
    "ol.visualise()\n",
    "\n",
    "ol.delete(n2)\n",
    "ol.visualise()\n",
    "ol.delete(n1)\n",
    "ol.visualise()"
   ]
  }
 ],
 "metadata": {
  "kernelspec": {
   "display_name": "Python 3",
   "language": "python",
   "name": "python3"
  },
  "language_info": {
   "codemirror_mode": {
    "name": "ipython",
    "version": 3
   },
   "file_extension": ".py",
   "mimetype": "text/x-python",
   "name": "python",
   "nbconvert_exporter": "python",
   "pygments_lexer": "ipython3",
   "version": "3.7.3"
  }
 },
 "nbformat": 4,
 "nbformat_minor": 4
}
