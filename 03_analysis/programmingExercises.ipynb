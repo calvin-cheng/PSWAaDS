{
 "cells": [
  {
   "cell_type": "markdown",
   "metadata": {},
   "source": [
    "#### 1. Devise an experiment to verify that the list index operator is $O(1)$"
   ]
  },
  {
   "cell_type": "code",
   "execution_count": 1,
   "metadata": {},
   "outputs": [],
   "source": [
    "import timeit\n",
    "import random\n",
    "from matplotlib import pyplot as plt\n",
    "\n",
    "times = []\n",
    "for i in range(10000, 1000001, 20000):\n",
    "    t = timeit.Timer('x[random.randrange(%d)]'%i, \n",
    "                     'from __main__ import random, x')\n",
    "    x = list(range(i))\n",
    "    lst_time = t.timeit(number=1000)\n",
    "    times.append(lst_time)"
   ]
  },
  {
   "cell_type": "code",
   "execution_count": 2,
   "metadata": {},
   "outputs": [
    {
     "data": {
      "image/png": "[encoded data removed]",
      "text/plain": [
       "<Figure size 432x288 with 1 Axes>"
      ]
     },
     "metadata": {
      "needs_background": "light"
     },
     "output_type": "display_data"
    }
   ],
   "source": [
    "plt.scatter(list(range(10000, 1000001, 20000)), times)\n",
    "plt.ylabel('Time')\n",
    "plt.xlabel('Size of List')\n",
    "plt.show()"
   ]
  },
  {
   "cell_type": "markdown",
   "metadata": {},
   "source": [
    "#### 2. Devise an experiment to verify that get item and set item are $O(1)$ for dictionaries."
   ]
  },
  {
   "cell_type": "code",
   "execution_count": 3,
   "metadata": {},
   "outputs": [],
   "source": [
    "getTimes = []\n",
    "setTimes = []\n",
    "for i in range(10000, 1000001, 20000):\n",
    "    t = timeit.Timer('x.get(random.randrange(%d))'%i, \n",
    "                     'from __main__ import random, x')\n",
    "    t2 = timeit.Timer('x[random.randrange(%d)]=0'%i,\n",
    "                      'from __main__ import random, x')\n",
    "    x = {key: None for key in range(i)}\n",
    "    getTime = t.timeit(number=1000)\n",
    "    setTime = t2.timeit(number=1000)\n",
    "    getTimes.append(getTime)\n",
    "    setTimes.append(setTime)"
   ]
  },
  {
   "cell_type": "code",
   "execution_count": 4,
   "metadata": {},
   "outputs": [
    {
     "data": {
      "image/png": "[encoded data removed]",
      "text/plain": [
       "<Figure size 432x288 with 1 Axes>"
      ]
     },
     "metadata": {
      "needs_background": "light"
     },
     "output_type": "display_data"
    }
   ],
   "source": [
    "plt.scatter(list(range(10000, 1000001, 20000)), getTimes)\n",
    "plt.scatter(list(range(10000, 1000001, 20000)), setTimes)\n",
    "plt.ylabel('Time')\n",
    "plt.xlabel('Size of List')\n",
    "plt.show()"
   ]
  },
  {
   "cell_type": "markdown",
   "metadata": {},
   "source": [
    "#### 3. Devise an experiment that compares the performance of the `del` operator on lists and dictionaries."
   ]
  },
  {
   "cell_type": "code",
   "execution_count": 5,
   "metadata": {},
   "outputs": [],
   "source": [
    "lstDelTimes = []\n",
    "dictDelTimes = []\n",
    "def buildLst(i):\n",
    "    return list(range(i))\n",
    "def buildDict(i):\n",
    "    return {key: None for key in range(i)}\n",
    "\n",
    "size = 10000000\n",
    "t = timeit.Timer('del x[random.randrange(%d)]'%(size), \n",
    "                 'from __main__ import random, buildLst; x = buildLst(%d)'%size)\n",
    "t2 = timeit.Timer('del x[random.randrange(%d)]'%(size),\n",
    "                 'from __main__ import random, buildDict; x = buildDict(%d)'%size)\n",
    "lstDelTime = t.timeit(number=1)\n",
    "dictDelTime = t.timeit(number=1)"
   ]
  },
  {
   "cell_type": "code",
   "execution_count": 6,
   "metadata": {},
   "outputs": [
    {
     "name": "stdout",
     "output_type": "stream",
     "text": [
      "0.005999179000000687\n",
      "0.006563042000000685\n"
     ]
    }
   ],
   "source": [
    "print(lstDelTime)\n",
    "print(dictDelTime)"
   ]
  },
  {
   "cell_type": "markdown",
   "metadata": {},
   "source": [
    "#### 4. Given a list of numbers in random order, write an algorithm that works in $O(n\\log(n))$ to find the kth smallest number in the list."
   ]
  },
  {
   "cell_type": "code",
   "execution_count": 11,
   "metadata": {},
   "outputs": [
    {
     "name": "stdout",
     "output_type": "stream",
     "text": [
      "[217, 338, 507, 998, 1302, 1617, 1655, 1886, 2314, 2523, 2879, 3189, 3373, 3540, 3574, 3717, 3813, 4046, 4426, 4756, 5228, 5758, 5833, 5995, 6112, 6191, 6199, 6336, 6381, 6605, 6821, 6951, 7230, 7254, 7382, 7564, 7645, 7660, 7711, 8035, 8178, 8476, 8542, 8568, 8638, 8940, 9080, 9167, 9539, 9790]\n"
     ]
    }
   ],
   "source": [
    "size = 50\n",
    "k = 10\n",
    "listOfNumbers = []\n",
    "for i in range(size):\n",
    "    listOfNumbers.append(random.randrange(9999))\n",
    "\n",
    "# Takes O(n log(n)) - probably quick/merge sort\n",
    "listOfNumbers.sort()  \n",
    "print(listOfNumbers[k])"
   ]
  },
  {
   "cell_type": "markdown",
   "metadata": {},
   "source": [
    "#### 5.  Can you improve the algorithm from the previous problem to be linear? Explain."
   ]
  },
  {
   "cell_type": "markdown",
   "metadata": {},
   "source": [
    "QuickSelect if QuickSort is used to sort the list\n",
    "> Stop QuickSort when the pivot itself is the kth element\n",
    "\n",
    "* Worst case: $O(n^2)$\n",
    "* Average case: $O(n)$\n",
    "\n",
    "_To be implemented in the future_\n",
    "\n",
    "Min/Max Heap?"
   ]
  }
 ],
 "metadata": {
  "kernelspec": {
   "display_name": "Python3 (testvenv)",
   "language": "python",
   "name": "py2env"
  },
  "language_info": {
   "codemirror_mode": {
    "name": "ipython",
    "version": 3
   },
   "file_extension": ".py",
   "mimetype": "text/x-python",
   "name": "python",
   "nbconvert_exporter": "python",
   "pygments_lexer": "ipython3",
   "version": "3.7.3"
  }
 },
 "nbformat": 4,
 "nbformat_minor": 4
}
