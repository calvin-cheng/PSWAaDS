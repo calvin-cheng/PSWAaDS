{
 "cells": [
  {
   "attachments": {},
   "cell_type": "markdown",
   "metadata": {},
   "source": [
    "_Page 47_\n",
    "\n",
    "Write two Python functions to find the minimum number in a list. The first function should compare each number to every other number on the list. $O(n^2)$. The second function should be linear $O(n)$.\n"
   ]
  },
  {
   "cell_type": "code",
   "execution_count": 18,
   "metadata": {},
   "outputs": [],
   "source": [
    "def minNumN2(numList):\n",
    "    minNum = None\n",
    "    minNumFound = False\n",
    "    \n",
    "    for idx in range(len(numList)):\n",
    "        for idx2 in range(len(numList)):\n",
    "            minNumFound = True\n",
    "            if idx == idx2:\n",
    "                pass\n",
    "            else:\n",
    "                if numList[idx] > numList[idx2]:\n",
    "                    minNumFound = False\n",
    "                    break\n",
    "        if minNumFound:\n",
    "            minNum = numList[idx]\n",
    "            break   \n",
    "                    \n",
    "    return minNum\n",
    "\n",
    "def minNumN(numList):\n",
    "    minNum = None\n",
    "    \n",
    "    for num in numList:\n",
    "        if minNum:\n",
    "            if num < minNum:\n",
    "                minNum = num\n",
    "        else:\n",
    "            minNum = num\n",
    "    \n",
    "    return minNum"
   ]
  },
  {
   "cell_type": "code",
   "execution_count": 19,
   "metadata": {},
   "outputs": [
    {
     "name": "stdout",
     "output_type": "stream",
     "text": [
      "1\n",
      "1\n"
     ]
    }
   ],
   "source": [
    "print(minNumN2([1, 2, 3, 4, 5]))\n",
    "print(minNumN([1, 1, 1, 1, 1]))"
   ]
  }
 ],
 "metadata": {
  "kernelspec": {
   "display_name": "Python3 (testvenv)",
   "language": "python",
   "name": "py2env"
  },
  "language_info": {
   "codemirror_mode": {
    "name": "ipython",
    "version": 3
   },
   "file_extension": ".py",
   "mimetype": "text/x-python",
   "name": "python",
   "nbconvert_exporter": "python",
   "pygments_lexer": "ipython3",
   "version": "3.7.3"
  }
 },
 "nbformat": 4,
 "nbformat_minor": 4
}
